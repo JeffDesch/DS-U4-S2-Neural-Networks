{
 "cells": [
  {
   "cell_type": "markdown",
   "metadata": {
    "deletable": false,
    "editable": false,
    "nbgrader": {
     "cell_type": "markdown",
     "checksum": "914bed5d35f91c57b81b0d694bdd0e94",
     "grade": false,
     "grade_id": "cell-89fa18eaaf69c47f",
     "locked": true,
     "schema_version": 3,
     "solution": false,
     "task": false
    }
   },
   "source": [
    "\n",
    "## *Data Science Unit 4 Sprint 2*\n",
    "\n",
    "# Sprint Challenge - Neural Network Foundations\n",
    "\n",
    "Table of Problems\n",
    "\n",
    "1. [Defining Neural Networks](#Q1)\n",
    "2. [Simple Perceptron](#Q2)\n",
    "    - Perceptron\n",
    "    - Multilayer Perceptron (i.e. Neural Network)\n",
    "    - Analyze and Compare\n",
    "4. [Keras MMP](#Q3)\n",
    "\n",
    "\n",
    "____\n",
    "\n",
    "# Before you submit your notebook you must first\n",
    "\n",
    "1) Restart your notebook's Kernel\n",
    "\n",
    "2) Run all cells sequentially, from top to bottom, so that cell numbers are sequential numbers (i.e. 1,2,3,4,5...)\n",
    "- Easiest way to do this is to click on the **Cell** tab at the top of your notebook and select **Run All** from the drop down menu. \n",
    "\n",
    "____"
   ]
  },
  {
   "cell_type": "markdown",
   "metadata": {
    "deletable": false,
    "editable": false,
    "nbgrader": {
     "cell_type": "markdown",
     "checksum": "80b53343211b3ec6d5a7d63295854bf8",
     "grade": false,
     "grade_id": "cell-d282993617980687",
     "locked": true,
     "schema_version": 3,
     "solution": false,
     "task": false
    }
   },
   "source": [
    "## Part 0: Import Packages\n",
    "\n",
    "For this notebook, you will need to import: \n",
    "\n",
    "- `numpy`\n",
    "- `pandas`\n",
    "- `matplotlib`\n",
    "- `StandardScaler`\n",
    "- `tensorflow`\n",
    "- `keras`\n",
    "- `Sequential`\n",
    "- `Dense`\n",
    "- `GridSearchCV`\n",
    "- `KerasClassifier`\n",
    "\n",
    "You will also need to install `!pip install mlxtend` if you are working on a notebook. **Be sure to delete the install statement afterwards so that CodeGrade doesn't try to install it and potentially crash.**\n",
    "\n"
   ]
  },
  {
   "cell_type": "code",
   "execution_count": 1,
   "metadata": {
    "deletable": false,
    "nbgrader": {
     "cell_type": "code",
     "checksum": "84e2be87dc9ad72d512f91665cd5c2c3",
     "grade": false,
     "grade_id": "cell-22a157c6967388c1",
     "locked": false,
     "schema_version": 3,
     "solution": true,
     "task": false
    }
   },
   "outputs": [],
   "source": [
    "# YOUR CODE HERE\n",
    "import numpy as np\n",
    "import pandas as pd\n",
    "import matplotlib.pyplot as plt\n",
    "\n",
    "from sklearn.preprocessing import StandardScaler\n",
    "import tensorflow as tf\n",
    "from tensorflow.keras import Sequential\n",
    "from tensorflow.keras.layers import  Dense\n",
    "from sklearn.model_selection import GridSearchCV\n",
    "from tensorflow.keras.wrappers.scikit_learn import KerasClassifier"
   ]
  },
  {
   "cell_type": "code",
   "execution_count": 2,
   "metadata": {},
   "outputs": [],
   "source": [
    "### Processor Usage - Set to -1 or -2 to speed up local runtime, 1 for Codegrade, 2 for Colab ###\n",
    "job_switch = 1"
   ]
  },
  {
   "cell_type": "code",
   "execution_count": 3,
   "metadata": {
    "deletable": false,
    "editable": false,
    "nbgrader": {
     "cell_type": "code",
     "checksum": "111db249c60793826d6f0ef305781ea4",
     "grade": true,
     "grade_id": "cell-ee3f0bbd9fd79ceb",
     "locked": true,
     "points": 1,
     "schema_version": 3,
     "solution": false,
     "task": false
    }
   },
   "outputs": [],
   "source": [
    "# Visible Testing\n",
    "assert pd.__package__ == 'pandas'\n",
    "assert GridSearchCV.__module__ == 'sklearn.model_selection._search'"
   ]
  },
  {
   "cell_type": "markdown",
   "metadata": {
    "deletable": false,
    "editable": false,
    "nbgrader": {
     "cell_type": "markdown",
     "checksum": "9b2b58b20b3c75b2f8ac786fda7fa46d",
     "grade": false,
     "grade_id": "cell-6adae65226f09553",
     "locked": true,
     "schema_version": 3,
     "solution": false,
     "task": false
    }
   },
   "source": [
    "<a id=\"Q1\"></a>\n",
    "## Part 1: Review: \n",
    "### Defining Neural Networks \n",
    "\n",
    "\n",
    "- **Neuron:** An individual node of a neural network. It takes in a combination of inputs and weights, multiplies them together, adds a bias term, and then passes the result through an activation function. The result of this process is what the neuron will pass onto the subsequent layer. Neural Network nodes are modeled after the neurons in the human brain. They have a activation function that decides how much signal to pass onto other neurons. In the human brain there is an electrochemical threshold that decides when and when not to fire. \n",
    "- **Input Layer:** The first layer of nodes in a neural network. This layer receives values from our dataset and combines them with the weights and biases before passing the data to the first hidden layer. \n",
    "- **Hidden Layer:** The middle layers of a neural network that are not the input layer or output layer. These nodes perform the same operations as all others, but are not directly accessible during training. Having multiple hidden layers in a neural network architecture is what determines the designation of \"Deep Learning.\"\n",
    "- **Output Layer:** The final layer of our neural network, the output layer outputs our model's final predictions. For regression problems this is a single node that outputs a continuous value. For binary classification, it is a single node that outputs a probability between 0 & 1, and for multi-class implementations the output layer typically includes a node for each of the classes that we are trying to predict.\n",
    "- **Activation:** Activation functions express how strongly or weakly signal should be passed to the next layer given the weighted sum of the previous input + a bias term. The resulting output is usually referred to as an 'activation'. "
   ]
  },
  {
   "cell_type": "markdown",
   "metadata": {},
   "source": [
    "<a id=\"Q2\"></a>\n",
    "## Part 2. Simple Perceptron\n",
    "\n",
    "For this task, you will build two neural networks using `Keras`. After you build these two models, compare the results of the model."
   ]
  },
  {
   "cell_type": "code",
   "execution_count": 4,
   "metadata": {},
   "outputs": [],
   "source": [
    "\"\"\"\n",
    "Our Dataset\n",
    "\"\"\"\n",
    "\n",
    "rng = np.random.RandomState(0)\n",
    "\n",
    "\"Use this X & y in the following 2 models\"\n",
    "X = rng.randn(300, 2)\n",
    "y = np.array(np.logical_xor(X[:, 0] > 0, X[:, 1] > 0), \n",
    "             dtype=int)"
   ]
  },
  {
   "cell_type": "markdown",
   "metadata": {},
   "source": [
    "### 2a. Simple Perceptron\n",
    "Construct a simple perceptron using Keras. \n",
    "\n",
    "Make sure to include the following in your model:\n",
    "- Add `1 dense layer` with a `single neuron` \n",
    "- Use a `sigmoid activation function`\n",
    "- Set `epochs` to 10 \n",
    "- Use the version of `crossentropy loss` that is appropriate for this data.\n",
    "---\n",
    "* Your model should be called `model1`. \n",
    "\n",
    "* The results of your fit model should be assigned to a variable called `h1`. \n"
   ]
  },
  {
   "cell_type": "code",
   "execution_count": 5,
   "metadata": {
    "deletable": false,
    "nbgrader": {
     "cell_type": "code",
     "checksum": "533f2731bf5c6bff190bfb764e02fada",
     "grade": false,
     "grade_id": "cell-427690628f9c900b",
     "locked": false,
     "schema_version": 3,
     "solution": true,
     "task": false
    }
   },
   "outputs": [
    {
     "name": "stdout",
     "output_type": "stream",
     "text": [
      "Epoch 1/10\n",
      "10/10 [==============================] - 3s 12ms/step - loss: 0.8341 - accuracy: 0.4367\n",
      "Epoch 2/10\n",
      "10/10 [==============================] - 0s 13ms/step - loss: 0.8316 - accuracy: 0.4367\n",
      "Epoch 3/10\n",
      "10/10 [==============================] - 0s 21ms/step - loss: 0.8292 - accuracy: 0.4367\n",
      "Epoch 4/10\n",
      "10/10 [==============================] - 0s 19ms/step - loss: 0.8268 - accuracy: 0.4367\n",
      "Epoch 5/10\n",
      "10/10 [==============================] - 0s 15ms/step - loss: 0.8244 - accuracy: 0.4367\n",
      "Epoch 6/10\n",
      "10/10 [==============================] - 0s 22ms/step - loss: 0.8222 - accuracy: 0.4367\n",
      "Epoch 7/10\n",
      "10/10 [==============================] - 0s 14ms/step - loss: 0.8198 - accuracy: 0.4433\n",
      "Epoch 8/10\n",
      "10/10 [==============================] - 0s 13ms/step - loss: 0.8177 - accuracy: 0.4433\n",
      "Epoch 9/10\n",
      "10/10 [==============================] - 0s 23ms/step - loss: 0.8154 - accuracy: 0.4433\n",
      "Epoch 10/10\n",
      "10/10 [==============================] - 0s 13ms/step - loss: 0.8134 - accuracy: 0.4433\n"
     ]
    }
   ],
   "source": [
    "# build and fit model\n",
    "input_size= len(X[0]) #column size\n",
    "model1 = Sequential([Dense(1, activation='sigmoid', input_dim=input_size)])\n",
    "model1.compile(optimizer='adam', loss='binary_crossentropy', metrics=['accuracy']) # metrics needed for plottng later\n",
    "\n",
    "h1 = model1.fit(X, y, workers=-2, epochs=10) #using defaults for other parameters"
   ]
  },
  {
   "cell_type": "code",
   "execution_count": 6,
   "metadata": {
    "deletable": false,
    "editable": false,
    "nbgrader": {
     "cell_type": "code",
     "checksum": "36f7f830036d0443ca8e8ba0f17b2a4e",
     "grade": true,
     "grade_id": "cell-bf2ae566afacde8c",
     "locked": true,
     "points": 1,
     "schema_version": 3,
     "solution": false,
     "task": false
    }
   },
   "outputs": [],
   "source": [
    "# Visible test\n",
    "assert len(model1.get_config()[\"layers\"]) == 2, \"Make sure you only create 1 Dense layer.\"\n",
    "assert len(h1.epoch) <=10, \"Did you make sure to set epochs to 10 or less?\""
   ]
  },
  {
   "cell_type": "code",
   "execution_count": 7,
   "metadata": {
    "deletable": false,
    "editable": false,
    "nbgrader": {
     "cell_type": "code",
     "checksum": "95d3ee2935a0de64f2a5a22460520e69",
     "grade": true,
     "grade_id": "cell-a957e14380b2f508",
     "locked": true,
     "points": 1,
     "schema_version": 3,
     "solution": false,
     "task": false
    }
   },
   "outputs": [],
   "source": [
    "# Hidden tests - you will see the results when you submit to Canvas"
   ]
  },
  {
   "cell_type": "markdown",
   "metadata": {},
   "source": [
    "### 2b. Multi-Layer Perceptron\n",
    "Now construct a multi-layer perceptron model (also known as a neural network). \n",
    "\n",
    "Your neural network `must` have: \n",
    "- `2` Hidden Layers\n",
    "- Select any number between `5-32` for the number of neurons in each hidden layers\n",
    "- Your pick of activation function and optimizer\n",
    "- Incorporate the `myCallback` function below into your model\n",
    "- Set epochs to `100`\n",
    "- Your model should be called `model2` \n",
    "- Save the results of your fit statement to a variable called `h2`. \n",
    "- Use the version of `crossentropy loss` that is appropriate for this data."
   ]
  },
  {
   "cell_type": "code",
   "execution_count": 8,
   "metadata": {
    "deletable": false,
    "editable": false,
    "nbgrader": {
     "cell_type": "code",
     "checksum": "ad238f5d2d4fce7ec4b2bbeb786faf4e",
     "grade": false,
     "grade_id": "cell-eb88d895e6d9479d",
     "locked": true,
     "schema_version": 3,
     "solution": false,
     "task": false
    }
   },
   "outputs": [],
   "source": [
    "#do not delete or modify\n",
    "import tensorflow as tf\n",
    "\n",
    "class myCallback(tf.keras.callbacks.Callback): \n",
    "    def on_epoch_end(self, epoch, logs={}): \n",
    "        # if model reaches 99% accuracy, training is terminated \n",
    "        acc_threshold = 0.99\n",
    "        if(logs.get('accuracy') > acc_threshold):   \n",
    "            self.model.stop_training = True\n",
    "            self.model.callback_used = True"
   ]
  },
  {
   "cell_type": "code",
   "execution_count": 9,
   "metadata": {
    "deletable": false,
    "nbgrader": {
     "cell_type": "code",
     "checksum": "314337f29c8cd7f38224a31687a86b12",
     "grade": false,
     "grade_id": "cell-77523c4c64743f16",
     "locked": false,
     "schema_version": 3,
     "solution": true,
     "task": false
    }
   },
   "outputs": [
    {
     "name": "stdout",
     "output_type": "stream",
     "text": [
      "Epoch 1/100\n",
      "38/38 [==============================] - 2s 19ms/step - loss: 0.6754 - accuracy: 0.6133\n",
      "Epoch 2/100\n",
      "38/38 [==============================] - 1s 18ms/step - loss: 0.6109 - accuracy: 0.8133\n",
      "Epoch 3/100\n",
      "38/38 [==============================] - 1s 16ms/step - loss: 0.5601 - accuracy: 0.8867\n",
      "Epoch 4/100\n",
      "38/38 [==============================] - 1s 17ms/step - loss: 0.5104 - accuracy: 0.9100\n",
      "Epoch 5/100\n",
      "38/38 [==============================] - 1s 18ms/step - loss: 0.4598 - accuracy: 0.9133\n",
      "Epoch 6/100\n",
      "38/38 [==============================] - 1s 15ms/step - loss: 0.4080 - accuracy: 0.9433\n",
      "Epoch 7/100\n",
      "38/38 [==============================] - 1s 16ms/step - loss: 0.3600 - accuracy: 0.9433\n",
      "Epoch 8/100\n",
      "38/38 [==============================] - 1s 18ms/step - loss: 0.3214 - accuracy: 0.9567\n",
      "Epoch 9/100\n",
      "38/38 [==============================] - 1s 17ms/step - loss: 0.2841 - accuracy: 0.9633\n",
      "Epoch 10/100\n",
      "38/38 [==============================] - 1s 14ms/step - loss: 0.2551 - accuracy: 0.9700\n",
      "Epoch 11/100\n",
      "38/38 [==============================] - 1s 16ms/step - loss: 0.2307 - accuracy: 0.9700\n",
      "Epoch 12/100\n",
      "38/38 [==============================] - 1s 22ms/step - loss: 0.2094 - accuracy: 0.9767\n",
      "Epoch 13/100\n",
      "38/38 [==============================] - 1s 20ms/step - loss: 0.1923 - accuracy: 0.9733\n",
      "Epoch 14/100\n",
      "38/38 [==============================] - 1s 17ms/step - loss: 0.1778 - accuracy: 0.9833\n",
      "Epoch 15/100\n",
      "38/38 [==============================] - 1s 13ms/step - loss: 0.1646 - accuracy: 0.9800\n",
      "Epoch 16/100\n",
      "38/38 [==============================] - 1s 14ms/step - loss: 0.1532 - accuracy: 0.9767\n",
      "Epoch 17/100\n",
      "38/38 [==============================] - 0s 11ms/step - loss: 0.1439 - accuracy: 0.9767\n",
      "Epoch 18/100\n",
      "38/38 [==============================] - 0s 11ms/step - loss: 0.1349 - accuracy: 0.9867\n",
      "Epoch 19/100\n",
      "38/38 [==============================] - 0s 11ms/step - loss: 0.1268 - accuracy: 0.9867\n",
      "Epoch 20/100\n",
      "38/38 [==============================] - 0s 13ms/step - loss: 0.1205 - accuracy: 0.9800\n",
      "Epoch 21/100\n",
      "38/38 [==============================] - 0s 12ms/step - loss: 0.1151 - accuracy: 0.9867\n",
      "Epoch 22/100\n",
      "38/38 [==============================] - 0s 11ms/step - loss: 0.1097 - accuracy: 0.9800\n",
      "Epoch 23/100\n",
      "38/38 [==============================] - 0s 11ms/step - loss: 0.1072 - accuracy: 0.9833\n",
      "Epoch 24/100\n",
      "38/38 [==============================] - 0s 11ms/step - loss: 0.1009 - accuracy: 0.9867\n",
      "Epoch 25/100\n",
      "38/38 [==============================] - 0s 13ms/step - loss: 0.0956 - accuracy: 0.9900\n"
     ]
    }
   ],
   "source": [
    "# build and fit model\n",
    "\n",
    "model2 = Sequential([\n",
    "                    Dense(32, activation='relu', input_dim=input_size),\n",
    "                    Dense(16, activation='relu'),\n",
    "                    Dense(1, activation='sigmoid') #output layer\n",
    "                    ])\n",
    "model2.compile(optimizer='adam', loss='binary_crossentropy', metrics=['accuracy']) # metrics needed for callback\n",
    "\n",
    "h2 = model2.fit(X, y, workers=-2, epochs=100, batch_size=8, callbacks=[myCallback()])"
   ]
  },
  {
   "cell_type": "code",
   "execution_count": 10,
   "metadata": {
    "deletable": false,
    "editable": false,
    "nbgrader": {
     "cell_type": "code",
     "checksum": "4a5f575f46f151f97f1cebc19a484bae",
     "grade": true,
     "grade_id": "cell-770612ca24334d8a",
     "locked": true,
     "points": 1,
     "schema_version": 3,
     "solution": false,
     "task": false
    }
   },
   "outputs": [],
   "source": [
    "# Visible test\n",
    "assert len(model2.get_config()[\"layers\"]) == 4, \"You should have 4 layers: Input, hidden 1, hidden 2, output.\"\n",
    "assert 5 <= model2.get_config()[\"layers\"][1][\"config\"][\"units\"] <= 32, \"You should have 5 - 32 units in hidden layer 1, but don't.\"\n",
    "assert 5 <= model2.get_config()[\"layers\"][2][\"config\"][\"units\"] <= 32, \"You should have 5 - 32 units in hidden layer 2, but don't.\"\n",
    "assert h2.params[\"epochs\"] == 100, \"You didn't set epochs to 100.\""
   ]
  },
  {
   "cell_type": "code",
   "execution_count": 11,
   "metadata": {
    "deletable": false,
    "editable": false,
    "nbgrader": {
     "cell_type": "code",
     "checksum": "3ca73d4d3d17897a570e19a8a97c050f",
     "grade": true,
     "grade_id": "cell-49b1bf7cce22b5b9",
     "locked": true,
     "points": 1,
     "schema_version": 3,
     "solution": false,
     "task": false
    }
   },
   "outputs": [],
   "source": [
    "# Hidden tests - you will see the results when you submit to Canvas"
   ]
  },
  {
   "cell_type": "markdown",
   "metadata": {
    "deletable": false,
    "editable": false,
    "nbgrader": {
     "cell_type": "markdown",
     "checksum": "b322042f3d8b515b4c5603946e355b13",
     "grade": false,
     "grade_id": "cell-f3490b86d4b284b0",
     "locked": true,
     "schema_version": 3,
     "solution": false,
     "task": false
    }
   },
   "source": [
    "### 2c. Analyze and Compare\n",
    "\n",
    "**Before you Start**: You will need to install an additional library for this next segment. \n",
    "\n",
    "Install the package `mlxtend` into the environment you are using for the sprint challenge.\n",
    "\n",
    "You can install this package using the following statement in the terminal\n",
    "\n",
    "```python\n",
    "pip install mlxtend\n",
    "```\n",
    "\n",
    "Or you can install this package using the following statement in your notebook\n",
    "\n",
    "```python\n",
    "!pip install mlxtend\n",
    "```\n",
    "\n",
    "If you choose to install this package from within your notebook, be sure to delete the install statement afterwards so that CodeGrade doesn't try to install it and potentially crash. \n",
    "\n",
    "\n",
    "The cells below generate decision boundary plots of your models (`model1` & `model2`). Review the plots."
   ]
  },
  {
   "cell_type": "code",
   "execution_count": 12,
   "metadata": {
    "deletable": false,
    "editable": false,
    "nbgrader": {
     "cell_type": "code",
     "checksum": "77f6f2a9a5839eeba03aabe273a272d0",
     "grade": false,
     "grade_id": "cell-40d69928751b50a3",
     "locked": true,
     "schema_version": 3,
     "solution": false,
     "task": false
    }
   },
   "outputs": [
    {
     "name": "stdout",
     "output_type": "stream",
     "text": [
      "11664/11664 [==============================] - 21s 2ms/step\n",
      "11664/11664 [==============================] - 33s 3ms/step\n"
     ]
    },
    {
     "data": {
      "image/png": "[encoded data removed]",
      "text/plain": [
       "<Figure size 864x432 with 2 Axes>"
      ]
     },
     "metadata": {
      "needs_background": "light"
     },
     "output_type": "display_data"
    }
   ],
   "source": [
    "from mlxtend.plotting import plot_decision_regions\n",
    "\n",
    "\n",
    "fig = plt.figure(figsize=(12,6))\n",
    "\n",
    "for clf, hist, name, grd in zip([model1,model2], [h1, h2],['Perceptron', 'Multi-Layer Perceptron'],[1,2]):\n",
    "\n",
    "    ax = plt.subplot(1,2, grd)\n",
    "    fig = plot_decision_regions(X=X, y=y, clf=clf, legend=2)\n",
    "    title = f\"{name} with {hist.history['accuracy'][-1]:,.2f} Accuracy\"\n",
    "    plt.title(title)\n",
    "\n",
    "plt.show()"
   ]
  },
  {
   "cell_type": "markdown",
   "metadata": {
    "deletable": false,
    "editable": false,
    "nbgrader": {
     "cell_type": "markdown",
     "checksum": "6115e8a53cd304ed19dcead4c4ebcaae",
     "grade": false,
     "grade_id": "cell-302694c508c8da0e",
     "locked": true,
     "schema_version": 3,
     "solution": false,
     "task": false
    }
   },
   "source": [
    "#### Review\n",
    "1) Why does the Perceptron (model1) only achieve about 50% accuracy?\n",
    "\n",
    "A simple perceptron can only learn a linear decision boundary as seen in the visualization above. Since the data points are distributed in a way where only a single class is represented per quadrant, a linear decision boundary can never reach an accuracy much higher than about 50% since each class will be equally represented on either side of that linear decision boundary.\n",
    "\n",
    "2) What is the architectural property of the Multi-Layer Perceptron that allows it to more accurately learn the relationship between X and Y?\n",
    "\n",
    "The additional layers and neurons allow a neural networks to learn non-linear relationships between X and Y. Each layer in a neural net represents an N-dimensional vector space. So by passing data from one layer to another, we are passing a data vector from one vector space to another, each with a different dimensions, often times this will change the geometry of the data points (i.e. their distribution in space) in such a way where a linear separation then becomes possible. This is the same idea behind the Kernel Trick in Support Vector Machines (SVM). "
   ]
  },
  {
   "cell_type": "markdown",
   "metadata": {
    "deletable": false,
    "editable": false,
    "nbgrader": {
     "cell_type": "markdown",
     "checksum": "54d26b93a7851569bb4b1b4800181af4",
     "grade": false,
     "grade_id": "cell-db1863a277e4fd6b",
     "locked": true,
     "schema_version": 3,
     "solution": false,
     "task": false
    }
   },
   "source": [
    "## 3. Keras MMP <a id=\"Q3\"></a>\n",
    "\n",
    "- Implement a Multilayer Perceptron architecture of your choosing using the Keras library. \n",
    "- Train your model and report its baseline accuracy. \n",
    "- Then `hyper-parameters tune two parameters each with no more than 2 values each`\n",
    "    - Due to limited computational resources on CodeGrade `DO NOT INCLUDE ADDITIONAL PARAMETERS OR VALUES PLEASE`\n",
    "- Report your optimized model's accuracy\n",
    "- Use the Heart Disease Dataset provided (binary classification)\n",
    "- Use an appropriate loss function for a binary classification task\n",
    "- Use an appropriate activation function on the final layer of your network.\n",
    "- Train your model using verbose output for ease of grading.\n",
    "- Use GridSearchCV to hyper-parameters tune your model. \n",
    "    - **Use `n_jobs` = 1**\n",
    "- When hyper-parameters tuning, show you work by adding code cells for each new experiment.\n",
    "- Report the accuracy for each combination of hyper-parameters as you test them so that we can easily see which resulted in the highest accuracy."
   ]
  },
  {
   "cell_type": "code",
   "execution_count": 13,
   "metadata": {
    "inputHidden": false,
    "jupyter": {
     "outputs_hidden": false
    },
    "outputHidden": false
   },
   "outputs": [
    {
     "name": "stdout",
     "output_type": "stream",
     "text": [
      "(303, 14)\n"
     ]
    },
    {
     "data": {
      "text/html": [
       "<div>\n",
       "<style scoped>\n",
       "    .dataframe tbody tr th:only-of-type {\n",
       "        vertical-align: middle;\n",
       "    }\n",
       "\n",
       "    .dataframe tbody tr th {\n",
       "        vertical-align: top;\n",
       "    }\n",
       "\n",
       "    .dataframe thead th {\n",
       "        text-align: right;\n",
       "    }\n",
       "</style>\n",
       "<table border=\"1\" class=\"dataframe\">\n",
       "  <thead>\n",
       "    <tr style=\"text-align: right;\">\n",
       "      <th></th>\n",
       "      <th>age</th>\n",
       "      <th>sex</th>\n",
       "      <th>cp</th>\n",
       "      <th>trestbps</th>\n",
       "      <th>chol</th>\n",
       "      <th>fbs</th>\n",
       "      <th>restecg</th>\n",
       "      <th>thalach</th>\n",
       "      <th>exang</th>\n",
       "      <th>oldpeak</th>\n",
       "      <th>slope</th>\n",
       "      <th>ca</th>\n",
       "      <th>thal</th>\n",
       "      <th>target</th>\n",
       "    </tr>\n",
       "  </thead>\n",
       "  <tbody>\n",
       "    <tr>\n",
       "      <th>52</th>\n",
       "      <td>62</td>\n",
       "      <td>1</td>\n",
       "      <td>2</td>\n",
       "      <td>130</td>\n",
       "      <td>231</td>\n",
       "      <td>0</td>\n",
       "      <td>1</td>\n",
       "      <td>146</td>\n",
       "      <td>0</td>\n",
       "      <td>1.8</td>\n",
       "      <td>1</td>\n",
       "      <td>3</td>\n",
       "      <td>3</td>\n",
       "      <td>1</td>\n",
       "    </tr>\n",
       "    <tr>\n",
       "      <th>28</th>\n",
       "      <td>65</td>\n",
       "      <td>0</td>\n",
       "      <td>2</td>\n",
       "      <td>140</td>\n",
       "      <td>417</td>\n",
       "      <td>1</td>\n",
       "      <td>0</td>\n",
       "      <td>157</td>\n",
       "      <td>0</td>\n",
       "      <td>0.8</td>\n",
       "      <td>2</td>\n",
       "      <td>1</td>\n",
       "      <td>2</td>\n",
       "      <td>1</td>\n",
       "    </tr>\n",
       "    <tr>\n",
       "      <th>174</th>\n",
       "      <td>60</td>\n",
       "      <td>1</td>\n",
       "      <td>0</td>\n",
       "      <td>130</td>\n",
       "      <td>206</td>\n",
       "      <td>0</td>\n",
       "      <td>0</td>\n",
       "      <td>132</td>\n",
       "      <td>1</td>\n",
       "      <td>2.4</td>\n",
       "      <td>1</td>\n",
       "      <td>2</td>\n",
       "      <td>3</td>\n",
       "      <td>0</td>\n",
       "    </tr>\n",
       "    <tr>\n",
       "      <th>265</th>\n",
       "      <td>66</td>\n",
       "      <td>1</td>\n",
       "      <td>0</td>\n",
       "      <td>112</td>\n",
       "      <td>212</td>\n",
       "      <td>0</td>\n",
       "      <td>0</td>\n",
       "      <td>132</td>\n",
       "      <td>1</td>\n",
       "      <td>0.1</td>\n",
       "      <td>2</td>\n",
       "      <td>1</td>\n",
       "      <td>2</td>\n",
       "      <td>0</td>\n",
       "    </tr>\n",
       "    <tr>\n",
       "      <th>299</th>\n",
       "      <td>45</td>\n",
       "      <td>1</td>\n",
       "      <td>3</td>\n",
       "      <td>110</td>\n",
       "      <td>264</td>\n",
       "      <td>0</td>\n",
       "      <td>1</td>\n",
       "      <td>132</td>\n",
       "      <td>0</td>\n",
       "      <td>1.2</td>\n",
       "      <td>1</td>\n",
       "      <td>0</td>\n",
       "      <td>3</td>\n",
       "      <td>0</td>\n",
       "    </tr>\n",
       "  </tbody>\n",
       "</table>\n",
       "</div>"
      ],
      "text/plain": [
       "     age  sex  cp  trestbps  chol  fbs  restecg  thalach  exang  oldpeak  \\\n",
       "52    62    1   2       130   231    0        1      146      0      1.8   \n",
       "28    65    0   2       140   417    1        0      157      0      0.8   \n",
       "174   60    1   0       130   206    0        0      132      1      2.4   \n",
       "265   66    1   0       112   212    0        0      132      1      0.1   \n",
       "299   45    1   3       110   264    0        1      132      0      1.2   \n",
       "\n",
       "     slope  ca  thal  target  \n",
       "52       1   3     3       1  \n",
       "28       2   1     2       1  \n",
       "174      1   2     3       0  \n",
       "265      2   1     2       0  \n",
       "299      1   0     3       0  "
      ]
     },
     "execution_count": 13,
     "metadata": {},
     "output_type": "execute_result"
    }
   ],
   "source": [
    "# load data\n",
    "data_path = 'https://raw.githubusercontent.com/ryanleeallred/datasets/master/heart.csv'\n",
    "df = pd.read_csv(data_path)\n",
    "df = df.sample(frac=1)\n",
    "print(df.shape)\n",
    "df.head()"
   ]
  },
  {
   "cell_type": "code",
   "execution_count": 14,
   "metadata": {
    "deletable": false,
    "nbgrader": {
     "cell_type": "code",
     "checksum": "22de1dc5d17d7a0bc674d082c33e8b65",
     "grade": false,
     "grade_id": "cell-85dc40f19f5a1d6b",
     "locked": false,
     "schema_version": 3,
     "solution": true,
     "task": false
    }
   },
   "outputs": [],
   "source": [
    "# Create an input matrix named 'X' store it in a 2D numpy array\n",
    "\n",
    "# Create an output vector for the labels named 'Y', store it in 1D numpy array\n",
    "\n",
    "X = df.drop(columns='target').to_numpy()\n",
    "Y = df['target'].to_numpy()"
   ]
  },
  {
   "cell_type": "code",
   "execution_count": 15,
   "metadata": {
    "deletable": false,
    "editable": false,
    "nbgrader": {
     "cell_type": "code",
     "checksum": "825d4f808810a2a8d6301d7453afe478",
     "grade": true,
     "grade_id": "cell-c17c686c974edc2e",
     "locked": true,
     "points": 1,
     "schema_version": 3,
     "solution": false,
     "task": false
    }
   },
   "outputs": [],
   "source": [
    "# Visible Testing\n",
    "assert X.shape[0] == 303, \"Did you drop/lose some rows in X? Did you properly load and split the data?\"\n",
    "assert X.shape[1] == 13, \"Did you drop/lose some columns in X? Did you properly load and split the data?\"\n",
    "assert len(Y)== 303, \"Did you drop/lose some rows in Y? Did you properly load and split the data?\""
   ]
  },
  {
   "cell_type": "code",
   "execution_count": 16,
   "metadata": {
    "deletable": false,
    "nbgrader": {
     "cell_type": "code",
     "checksum": "475835631ff6a34028443dbf604bd922",
     "grade": false,
     "grade_id": "cell-cfc5517cd0b6fa64",
     "locked": false,
     "schema_version": 3,
     "solution": true,
     "task": false
    }
   },
   "outputs": [],
   "source": [
    "# Create a function named 'create_model' that returns a complied keras model -  required for KerasClassifier\n",
    "\n",
    "def create_model(lr=0.1, act_fn='sigmoid', relu_leak=0.0, opt_fn='adam', num_layers=3, units=32):\n",
    "    \"\"\"\n",
    "    Returns a compliled keras model for keras-tuner hyperparameter tuning\n",
    "    \"\"\"\n",
    "    model = Sequential()\n",
    "\n",
    "    # instantiate acivation function if needed\n",
    "    if act_fn == 'relu':\n",
    "        act_fn = tf.keras.layers.ReLU(negative_slope=relu_leak)\n",
    "\n",
    "    # input layer + 1st hidden layer\n",
    "    model.add(Dense(units, activation=act_fn))\n",
    "    # middle hidden layers\n",
    "    for x in range(0, num_layers-1):\n",
    "        model.add(Dense(units, activation=act_fn))\n",
    "    # output layer\n",
    "    model.add(Dense(1, activation='sigmoid'))\n",
    "\n",
    "    # get opt funct. from parameter\n",
    "    if opt_fn == 'adam':\n",
    "        opt = tf.keras.optimizers.Adam(learning_rate=lr)\n",
    "    elif opt_fn == 'nadam':\n",
    "        opt = tf.keras.optimizers.Nadam(learning_rate=lr)\n",
    "    elif opt_fn == 'sgd':\n",
    "        opt = tf.keras.optimizers.SGD(learning_rate=lr)\n",
    "    else:\n",
    "        # default to Adam\n",
    "        opt = tf.keras.optimizers.Adam(learning_rate=lr)\n",
    "\n",
    "    # compile final model    \n",
    "    model.compile(\n",
    "        optimizer=opt,\n",
    "        loss='binary_crossentropy',\n",
    "        metrics=['accuracy']\n",
    "    )\n",
    "\n",
    "    return model"
   ]
  },
  {
   "cell_type": "code",
   "execution_count": 17,
   "metadata": {
    "deletable": false,
    "editable": false,
    "nbgrader": {
     "cell_type": "code",
     "checksum": "7b906697afb0a3b52cd19e9548eae6a7",
     "grade": true,
     "grade_id": "cell-fac25126eaf1eee4",
     "locked": true,
     "points": 1,
     "schema_version": 3,
     "solution": false,
     "task": false
    }
   },
   "outputs": [],
   "source": [
    "# Visible Testing\n",
    "assert (create_model().__module__ == 'tensorflow.python.keras.engine.sequential') or (create_model().__module__ == 'keras.engine.sequential'), \"create_model should return a keras model that was created using the Sequential class.\""
   ]
  },
  {
   "cell_type": "code",
   "execution_count": 18,
   "metadata": {
    "deletable": false,
    "nbgrader": {
     "cell_type": "code",
     "checksum": "0412c74b7803790452d4914d99995dd2",
     "grade": false,
     "grade_id": "cell-fbc3d0a07230078c",
     "locked": false,
     "schema_version": 3,
     "solution": true,
     "task": false
    }
   },
   "outputs": [
    {
     "name": "stderr",
     "output_type": "stream",
     "text": [
      "<ipython-input-18-50640623199f>:3: DeprecationWarning: KerasClassifier is deprecated, use Sci-Keras (https://github.com/adriangb/scikeras) instead. See https://www.adriangb.com/scikeras/stable/migration.html for help migrating.\n",
      "  model = KerasClassifier(create_model)\n"
     ]
    }
   ],
   "source": [
    "# Pass 'create_model' into KerasClassifier, store KerasClassifier to a variable named 'model'\n",
    "\n",
    "model = KerasClassifier(create_model)"
   ]
  },
  {
   "cell_type": "code",
   "execution_count": 19,
   "metadata": {
    "deletable": false,
    "editable": false,
    "nbgrader": {
     "cell_type": "code",
     "checksum": "0442c29a94065e922c5ae929976a52ab",
     "grade": true,
     "grade_id": "cell-464e7506993775f2",
     "locked": true,
     "points": 1,
     "schema_version": 3,
     "solution": false,
     "task": false
    }
   },
   "outputs": [],
   "source": [
    "# Visible Testing\n",
    "assert model.__module__ == 'tensorflow.python.keras.wrappers.scikit_learn' or model.__module__== 'keras.wrappers.scikit_learn', \"model should be a instance of KerasClassifier.\""
   ]
  },
  {
   "cell_type": "code",
   "execution_count": 20,
   "metadata": {
    "deletable": false,
    "nbgrader": {
     "cell_type": "code",
     "checksum": "f88603ef37a4d3d2ef8699a41ac9a0b2",
     "grade": false,
     "grade_id": "cell-985c0425f3b1304d",
     "locked": false,
     "schema_version": 3,
     "solution": true,
     "task": false
    }
   },
   "outputs": [],
   "source": [
    "# Define the grid search parameters inside a dictionary named 'param_grid' \n",
    "# Use 2 hyper-parameters with 2 possible values for each \n",
    "\n",
    "param_grid = {'lr': [0.1, 0.01],\n",
    "              'act_fn': ['sigmoid', 'relu']\n",
    "             }"
   ]
  },
  {
   "cell_type": "code",
   "execution_count": 21,
   "metadata": {
    "deletable": false,
    "editable": false,
    "nbgrader": {
     "cell_type": "code",
     "checksum": "a551fd8278b30c1318c036f6ad43b503",
     "grade": true,
     "grade_id": "cell-c765b5db5489d7a2",
     "locked": true,
     "points": 1,
     "schema_version": 3,
     "solution": false,
     "task": false
    }
   },
   "outputs": [],
   "source": [
    "assert len(param_grid.keys()) == 2, \"Did you create a param dict with 2 hyper-parameters as keys?\""
   ]
  },
  {
   "cell_type": "code",
   "execution_count": 22,
   "metadata": {
    "deletable": false,
    "nbgrader": {
     "cell_type": "code",
     "checksum": "2ea6312f4bc1f42809196b696037dd52",
     "grade": false,
     "grade_id": "cell-7cfb4315eab5031c",
     "locked": false,
     "schema_version": 3,
     "solution": true,
     "task": false
    }
   },
   "outputs": [
    {
     "name": "stdout",
     "output_type": "stream",
     "text": [
      "Fitting 3 folds for each of 4 candidates, totalling 12 fits\n",
      "10/10 [==============================] - 4s 58ms/step - loss: 0.6988 - accuracy: 0.5182\n"
     ]
    }
   ],
   "source": [
    "# Create Grid Search object and name it 'gs'\n",
    "# Run Grid Search \n",
    "gs = GridSearchCV(estimator=model, \n",
    "                    param_grid=param_grid, \n",
    "                    n_jobs=job_switch, \n",
    "                    verbose=1, \n",
    "                    cv=3)\n",
    "\n",
    "grid_result = gs.fit(X,Y)"
   ]
  },
  {
   "cell_type": "code",
   "execution_count": 23,
   "metadata": {},
   "outputs": [
    {
     "name": "stdout",
     "output_type": "stream",
     "text": [
      "Best: 0.5445544719696045 using {'act_fn': 'sigmoid', 'lr': 0.01}\n",
      "Means: 0.455445537964503, Stdev: 0.028004234660921976 with: {'act_fn': 'sigmoid', 'lr': 0.1}\n",
      "Means: 0.5445544719696045, Stdev: 0.028004220611972473 with: {'act_fn': 'sigmoid', 'lr': 0.01}\n",
      "Means: 0.49834983547528583, Stdev: 0.05259861408115146 with: {'act_fn': 'relu', 'lr': 0.1}\n",
      "Means: 0.5379538138707479, Stdev: 0.03987802763223187 with: {'act_fn': 'relu', 'lr': 0.01}\n"
     ]
    }
   ],
   "source": [
    "# your grid_result object should be able to run in this code \n",
    "print(f\"Best: {grid_result.best_score_} using {grid_result.best_params_}\")\n",
    "means = grid_result.cv_results_['mean_test_score']\n",
    "stds = grid_result.cv_results_['std_test_score']\n",
    "params = grid_result.cv_results_['params']\n",
    "for mean, stdev, param in zip(means, stds, params):\n",
    "    print(f\"Means: {mean}, Stdev: {stdev} with: {param}\") "
   ]
  },
  {
   "cell_type": "code",
   "execution_count": 24,
   "metadata": {},
   "outputs": [
    {
     "name": "stdout",
     "output_type": "stream",
     "text": [
      "10/10 [==============================] - 1s 15ms/step - loss: 0.8745 - accuracy: 0.5017\n"
     ]
    }
   ],
   "source": [
    "# Comparing to baseline model with default parameters\n",
    "model_base = create_model()\n",
    "base_results = model_base.fit(X,Y)"
   ]
  },
  {
   "cell_type": "code",
   "execution_count": 25,
   "metadata": {},
   "outputs": [
    {
     "name": "stdout",
     "output_type": "stream",
     "text": [
      "Fitting 3 folds for each of 4 candidates, totalling 12 fits\n",
      "Epoch 1/5\n",
      "10/10 [==============================] - 2s 75ms/step - loss: 28.9743 - accuracy: 0.4851\n",
      "Epoch 2/5\n",
      "10/10 [==============================] - 0s 13ms/step - loss: 0.7141 - accuracy: 0.4554\n",
      "Epoch 3/5\n",
      "10/10 [==============================] - 0s 19ms/step - loss: 0.6923 - accuracy: 0.5050\n",
      "Epoch 4/5\n",
      "10/10 [==============================] - 0s 12ms/step - loss: 0.6893 - accuracy: 0.5446\n",
      "Epoch 5/5\n",
      "10/10 [==============================] - 0s 22ms/step - loss: 0.6902 - accuracy: 0.5446\n",
      "Best: 0.5577557881673177 using {'act_fn': 'relu', 'epochs': 5, 'relu_leak': 0.0}\n"
     ]
    }
   ],
   "source": [
    "# Additional experiment: testing leaky relu and epochs\n",
    "param_grid = {'act_fn': ['relu'],\n",
    "              'relu_leak':[0.0, 0.05],\n",
    "              'epochs':[5, 10]  \n",
    "             }\n",
    "\n",
    "gs = GridSearchCV(estimator=model, \n",
    "                    param_grid=param_grid, \n",
    "                    n_jobs=job_switch, \n",
    "                    verbose=1, \n",
    "                    cv=3)\n",
    "\n",
    "grid_result = gs.fit(X,Y)\n",
    "\n",
    "print(f\"Best: {grid_result.best_score_} using {grid_result.best_params_}\")"
   ]
  },
  {
   "cell_type": "code",
   "execution_count": 26,
   "metadata": {},
   "outputs": [
    {
     "name": "stdout",
     "output_type": "stream",
     "text": [
      "Fitting 3 folds for each of 4 candidates, totalling 12 fits\n",
      "10/10 [==============================] - 3s 64ms/step - loss: 0.7662 - accuracy: 0.4587\n",
      "Best: 0.5412541329860687 using {'num_layers': 3, 'units': 16}\n"
     ]
    }
   ],
   "source": [
    "# Additional experiment: testing kernel size\n",
    "param_grid = {'units': [16, 32],\n",
    "              'num_layers':[3, 5] \n",
    "             }\n",
    "\n",
    "gs = GridSearchCV(estimator=model, \n",
    "                    param_grid=param_grid, \n",
    "                    n_jobs=job_switch, \n",
    "                    verbose=1, \n",
    "                    cv=3)\n",
    "\n",
    "grid_result = gs.fit(X,Y)\n",
    "\n",
    "print(f\"Best: {grid_result.best_score_} using {grid_result.best_params_}\")"
   ]
  }
 ],
 "metadata": {
  "kernelspec": {
   "display_name": "Python ('u4-s2')",
   "language": "python",
   "name": "python3"
  },
  "language_info": {
   "codemirror_mode": {
    "name": "ipython",
    "version": 3
   },
   "file_extension": ".py",
   "mimetype": "text/x-python",
   "name": "python",
   "nbconvert_exporter": "python",
   "pygments_lexer": "ipython3",
   "version": ""
  },
  "vscode": {
   "interpreter": {
    "hash": "25a19fbe0a9132dfb9279d48d161753c6352f8f9478c2e74383d340069b907c3"
   }
  }
 },
 "nbformat": 4,
 "nbformat_minor": 4
}
